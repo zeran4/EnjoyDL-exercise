{
 "cells": [
  {
   "cell_type": "code",
   "execution_count": null,
   "metadata": {
    "collapsed": true
   },
   "outputs": [],
   "source": [
    "목표3 : pooling, dropout을 넣어보자\n",
    "\n",
    "목표2 : crossentroy를 해서 loss를 줄이는 처리\n",
    "\n",
    "목표1 : 이미지를 하나 읽어 들이고 conv layer 2번 + fc layer 1번 처리"
   ]
  },
  {
   "cell_type": "code",
   "execution_count": 1,
   "metadata": {
    "collapsed": true
   },
   "outputs": [],
   "source": [
    "import tensorflow as tf\n",
    "import os\n",
    "from PIL import Image"
   ]
  },
  {
   "cell_type": "code",
   "execution_count": 2,
   "metadata": {
    "collapsed": false
   },
   "outputs": [],
   "source": [
    "image_dir = os.getcwd() + \"/Tensorflow_on_Air_data/Face00007.jpg\"\n",
    "label_dir = os.getcwd() + \"/Tensorflow_on_Air_data/label00007.csv\"\n",
    "imagename_list = [image_dir]\n",
    "labelname_list = [label_dir]\n",
    "\n",
    "imagename_queue = tf.train.string_input_producer(imagename_list)\n",
    "labelname_queue = tf.train.string_input_producer(labelname_list)"
   ]
  },
  {
   "cell_type": "code",
   "execution_count": 3,
   "metadata": {
    "collapsed": false
   },
   "outputs": [],
   "source": [
    "image_reader = tf.WholeFileReader()\n",
    "label_reader = tf.TextLineReader()\n",
    "image_key, image_value = image_reader.read(imagename_queue)\n",
    "label_key, label_value = label_reader.read(labelname_queue)"
   ]
  },
  {
   "cell_type": "code",
   "execution_count": 4,
   "metadata": {
    "collapsed": false
   },
   "outputs": [],
   "source": [
    "image = tf.image.decode_jpeg(image_value)\n",
    "label = tf.decode_csv(label_value, record_defaults=[[0]])\n",
    "#print(image)\n",
    "\n",
    "# image를 decode하면 tensor로 저장되어 feed없이 사용하기 위해 그대로 type만 변환\n",
    "x = tf.cast(image, tf.float32)\n",
    "y_ = tf.cast(label, tf.float32)\n",
    "y_ = tf.reshape(y_, [-1, 1]) # batch에 맞춰서 x 하고 shape를 맞춰준다. 이거를 안하면 run에서 오류"
   ]
  },
  {
   "cell_type": "code",
   "execution_count": 5,
   "metadata": {
    "collapsed": false
   },
   "outputs": [],
   "source": [
    "image_width = 49\n",
    "image_height = 61"
   ]
  },
  {
   "cell_type": "code",
   "execution_count": 6,
   "metadata": {
    "collapsed": false
   },
   "outputs": [],
   "source": [
    "# 데이터가 1개이므로 feed를 생략 x = tf.placeholder(tf.float32, shape=[None, image_width, image_height])\n",
    "#y_ = tf.placeholder(tf.float32, shape=[None, 1])"
   ]
  },
  {
   "cell_type": "code",
   "execution_count": 7,
   "metadata": {
    "collapsed": false
   },
   "outputs": [],
   "source": [
    "# hidden1 layer convolution\n",
    "w_hidden1 = tf.Variable(tf.truncated_normal([5,5,1,32]))\n",
    "b_hidden1 = tf.Variable(tf.zeros([32]))\n",
    "\n",
    "x_image = tf.reshape(x, [-1, image_width, image_height, 1])\n",
    "\n",
    "h_conv1 = tf.nn.relu(tf.nn.conv2d(x_image, w_hidden1, strides=[1, 1, 1, 1], padding=\"SAME\") + b_hidden1)\n",
    "#h_pool1 = tf.nn.max_pool(h_conv1, ksize=[1, 2, 2, 1], strides=[1, 2, 2, 1], padding=\"SAME\")\n",
    "h_pool1 = tf.nn.max_pool(h_conv1, ksize=[1, 2, 2, 1], strides=[1, 1, 1, 1], padding=\"SAME\")"
   ]
  },
  {
   "cell_type": "code",
   "execution_count": 8,
   "metadata": {
    "collapsed": false
   },
   "outputs": [],
   "source": [
    "# hidden2 layer convolution\n",
    "w_hidden2 = tf.Variable(tf.truncated_normal([5,5,32,64]))\n",
    "b_hidden2 = tf.Variable(tf.zeros([64]))\n",
    "\n",
    "h_conv2 = tf.nn.relu(tf.nn.conv2d(h_pool1, w_hidden2, strides=[1, 1, 1, 1], padding=\"SAME\") + b_hidden2)\n",
    "h_pool2 = tf.nn.max_pool(h_conv2, ksize=[1, 2, 2, 1], strides=[1, 1, 1, 1], padding=\"SAME\")"
   ]
  },
  {
   "cell_type": "code",
   "execution_count": 9,
   "metadata": {
    "collapsed": false
   },
   "outputs": [],
   "source": [
    "# fc1 layer fully-conncected\n",
    "fc_w = tf.Variable(tf.truncated_normal([image_width*image_height*64, 10]))\n",
    "fc_b = tf.Variable(tf.zeros([10]))\n",
    "\n",
    "h_flat = tf.reshape(h_pool2, [-1, image_width*image_height*64])\n",
    "\n",
    "h_fc1 = tf.nn.relu(tf.matmul(h_flat, fc_w) + fc_b)\n",
    "\n",
    "keep_prob = tf.placeholder(tf.float32)\n",
    "drop_fc = tf.nn.dropout(h_fc1, keep_prob)"
   ]
  },
  {
   "cell_type": "code",
   "execution_count": 10,
   "metadata": {
    "collapsed": false
   },
   "outputs": [],
   "source": [
    "w_out = tf.Variable(tf.truncated_normal([10, 1]))\n",
    "b_out = tf.Variable(tf.zeros([1]))\n",
    "\n",
    "pred = tf.matmul(drop_fc, w_out) + b_out"
   ]
  },
  {
   "cell_type": "code",
   "execution_count": 11,
   "metadata": {
    "collapsed": false
   },
   "outputs": [
    {
     "name": "stdout",
     "output_type": "stream",
     "text": [
      "Tensor(\"add_3:0\", shape=(?, 1), dtype=float32)\n",
      "Tensor(\"Reshape:0\", shape=(1, 1), dtype=float32)\n"
     ]
    }
   ],
   "source": [
    "print(pred)\n",
    "print(y_)"
   ]
  },
  {
   "cell_type": "code",
   "execution_count": 12,
   "metadata": {
    "collapsed": false
   },
   "outputs": [],
   "source": [
    "loss = tf.reduce_min(tf.nn.sigmoid_cross_entropy_with_logits(labels=y_, logits=pred))\n",
    "train = tf.train.AdamOptimizer(1e-4).minimize(loss)"
   ]
  },
  {
   "cell_type": "code",
   "execution_count": 13,
   "metadata": {
    "collapsed": true
   },
   "outputs": [],
   "source": [
    "# prediction한 값과 label값을 비교 : True/False 리스트\n",
    "correct_prediction = tf.equal(tf.argmax(pred,1), tf.argmax(y_,1))\n",
    "\n",
    "# True/False 리스트를 실수형으로 casting한다.\n",
    "accuracy = tf.reduce_mean(tf.cast(correct_prediction, tf.float32))"
   ]
  },
  {
   "cell_type": "code",
   "execution_count": 15,
   "metadata": {
    "collapsed": false
   },
   "outputs": [
    {
     "name": "stdout",
     "output_type": "stream",
     "text": [
      "-----------------\n",
      "loss:  2.17939e+06\n",
      "accuracy:  1.0\n",
      "-----------------\n",
      "loss:  5.97235e+07\n",
      "accuracy:  1.0\n",
      "-----------------\n",
      "loss:  -5.17006e+07\n",
      "accuracy:  1.0\n",
      "-----------------\n",
      "loss:  1.11108e+07\n",
      "accuracy:  1.0\n",
      "-----------------\n",
      "loss:  4.57083e+07\n",
      "accuracy:  1.0\n",
      "-----------------\n",
      "loss:  -3.17544e+07\n",
      "accuracy:  1.0\n",
      "-----------------\n",
      "loss:  3.56471e+07\n",
      "accuracy:  1.0\n",
      "-----------------\n",
      "loss:  -1.54903e+08\n",
      "accuracy:  1.0\n",
      "-----------------\n",
      "loss:  -4.97381e+07\n",
      "accuracy:  1.0\n",
      "-----------------\n",
      "loss:  -1.6448e+08\n",
      "accuracy:  1.0\n",
      "training done\n"
     ]
    }
   ],
   "source": [
    "with tf.Session() as sess:\n",
    "    coord = tf.train.Coordinator()\n",
    "    thread = tf.train.start_queue_runners(sess=sess, coord=coord)\n",
    "    \n",
    "    sess.run(tf.global_variables_initializer())\n",
    "\n",
    "    for i in range(10):\n",
    "        sess.run(train, {keep_prob: 0.7})\n",
    "        \n",
    "        #if train==True:\n",
    "        _looss, _accuracy = sess.run([loss, accuracy], {keep_prob: 0.7})\n",
    "        #if release_mode==Train:\n",
    "        #result = sess.run(pred, {keep_prob: 1.0})\n",
    "        \n",
    "        print(\"-----------------\")\n",
    "        print(\"loss: \", _looss)\n",
    "        print(\"accuracy: \", _accuracy)\n",
    "        \n",
    "#    print(image)\n",
    "\n",
    "#    Image.fromarray(image).show()\n",
    "\n",
    "    print(\"training done\")\n",
    "    \n",
    "    coord.request_stop()\n",
    "    coord.join(thread)"
   ]
  },
  {
   "cell_type": "code",
   "execution_count": null,
   "metadata": {
    "collapsed": true
   },
   "outputs": [],
   "source": []
  }
 ],
 "metadata": {
  "anaconda-cloud": {},
  "kernelspec": {
   "display_name": "Python [default]",
   "language": "python",
   "name": "python3"
  },
  "language_info": {
   "codemirror_mode": {
    "name": "ipython",
    "version": 3
   },
   "file_extension": ".py",
   "mimetype": "text/x-python",
   "name": "python",
   "nbconvert_exporter": "python",
   "pygments_lexer": "ipython3",
   "version": "3.5.2"
  }
 },
 "nbformat": 4,
 "nbformat_minor": 1
}
