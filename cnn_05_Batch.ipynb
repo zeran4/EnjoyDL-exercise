{
 "cells": [
  {
   "cell_type": "code",
   "execution_count": null,
   "metadata": {
    "collapsed": true
   },
   "outputs": [],
   "source": [
    "목표5 : batch 처리\n",
    "    \n",
    "목표4 : 파일/라벨의 수를 실제처럼 확대\n",
    "\n",
    "목표3 : pooling, dropout을 넣어보자\n",
    "\n",
    "목표2 : crossentroy를 해서 loss를 줄이는 처리\n",
    "\n",
    "목표1 : 이미지를 하나 읽어 들이고 conv layer 2번 + fc layer 1번 처리"
   ]
  },
  {
   "cell_type": "code",
   "execution_count": 1,
   "metadata": {
    "collapsed": true
   },
   "outputs": [],
   "source": [
    "import tensorflow as tf\n",
    "import os\n",
    "from PIL import Image"
   ]
  },
  {
   "cell_type": "code",
   "execution_count": 2,
   "metadata": {
    "collapsed": false
   },
   "outputs": [
    {
     "name": "stdout",
     "output_type": "stream",
     "text": [
      "c:/tmp/Temp_data_Set/Test_Dataset_png/Face00001.png\n",
      "c:/tmp/Temp_data_Set/Test_Dataset_png/Face01001.png\n",
      "c:/tmp/Temp_data_Set/Test_Dataset_png/Face02001.png\n",
      "c:/tmp/Temp_data_Set/Test_Dataset_png/Face03001.png\n",
      "c:/tmp/Temp_data_Set/Test_Dataset_png/Face04001.png\n",
      "c:/tmp/Temp_data_Set/Test_Dataset_png/Face05001.png\n",
      "c:/tmp/Temp_data_Set/Test_Dataset_png/Face06001.png\n",
      "c:/tmp/Temp_data_Set/Test_Dataset_png/Face07001.png\n",
      "['c:/tmp/Temp_data_Set/Test_Dataset_csv/label.csv']\n"
     ]
    }
   ],
   "source": [
    "image_dir = 'c:/tmp/Temp_data_Set/Test_Dataset_png/'\n",
    "image_list = os.listdir(image_dir)\n",
    "image_list.sort()    # sort()는 return이 없음\n",
    "\n",
    "for i in range(len(image_list)):\n",
    "    image_list[i] = image_dir + image_list[i]\n",
    "    if i%1000 == 0:\n",
    "        print(image_list[i])\n",
    "\n",
    "label_dir = 'c:/tmp/Temp_data_Set/Test_Dataset_csv/label.csv'\n",
    "label_list = [label_dir]\n",
    "print(label_list)\n",
    "\n",
    "imagename_queue = tf.train.string_input_producer(image_list)\n",
    "labelname_queue = tf.train.string_input_producer(label_list)"
   ]
  },
  {
   "cell_type": "code",
   "execution_count": 3,
   "metadata": {
    "collapsed": false
   },
   "outputs": [],
   "source": [
    "image_width = 49\n",
    "image_height = 61"
   ]
  },
  {
   "cell_type": "code",
   "execution_count": 4,
   "metadata": {
    "collapsed": false
   },
   "outputs": [],
   "source": [
    "image_reader = tf.WholeFileReader()\n",
    "label_reader = tf.TextLineReader()\n",
    "image_key, image_value = image_reader.read(imagename_queue)\n",
    "label_key, label_value = label_reader.read(labelname_queue)"
   ]
  },
  {
   "cell_type": "code",
   "execution_count": 5,
   "metadata": {
    "collapsed": false
   },
   "outputs": [],
   "source": [
    "image_decoded = tf.cast(tf.image.decode_png(image_value), tf.float32)\n",
    "label_decoded = tf.cast(tf.decode_csv(label_value, record_defaults=[[0]]), tf.float32)\n",
    "#print(image)\n",
    "\n",
    "label = tf.reshape(label_decoded,[1])\n",
    "image = tf.reshape(image_decoded,[image_height, image_width, 1])\n",
    "\n",
    "x, y_ = tf.train.shuffle_batch(tensors=[image, label], batch_size=32, num_threads=4, capacity=5000, min_after_dequeue=100)\n",
    "    \n",
    "\n",
    "# image를 decode하면 tensor로 저장되어 feed없이 사용하기 위해 그대로 type만 변환\n",
    "#x = tf.cast(batch_image, tf.float32)\n",
    "#y_ = tf.cast(batch_label, tf.float32)\n",
    "#y_ = tf.reshape(y_, [-1, 1]) # batch에 맞춰서 x 하고 shape를 맞춰준다. 이거를 안하면 run에서 오류"
   ]
  },
  {
   "cell_type": "code",
   "execution_count": 6,
   "metadata": {
    "collapsed": false
   },
   "outputs": [],
   "source": [
    "# 데이터가 1개이므로 feed를 생략 x = tf.placeholder(tf.float32, shape=[None, image_width, image_height])\n",
    "#y_ = tf.placeholder(tf.float32, shape=[None, 1])"
   ]
  },
  {
   "cell_type": "code",
   "execution_count": 7,
   "metadata": {
    "collapsed": false
   },
   "outputs": [],
   "source": [
    "# hidden1 layer convolution\n",
    "w_hidden1 = tf.Variable(tf.truncated_normal([5,5,1,32]))\n",
    "b_hidden1 = tf.Variable(tf.zeros([32]))\n",
    "\n",
    "x_image = tf.reshape(x, [-1, image_width, image_height, 1])\n",
    "\n",
    "h_conv1 = tf.nn.relu(tf.nn.conv2d(x_image, w_hidden1, strides=[1, 1, 1, 1], padding=\"SAME\") + b_hidden1)\n",
    "#h_pool1 = tf.nn.max_pool(h_conv1, ksize=[1, 2, 2, 1], strides=[1, 2, 2, 1], padding=\"SAME\")\n",
    "h_pool1 = tf.nn.max_pool(h_conv1, ksize=[1, 2, 2, 1], strides=[1, 1, 1, 1], padding=\"SAME\")"
   ]
  },
  {
   "cell_type": "code",
   "execution_count": 8,
   "metadata": {
    "collapsed": false
   },
   "outputs": [],
   "source": [
    "# hidden2 layer convolution\n",
    "w_hidden2 = tf.Variable(tf.truncated_normal([5,5,32,64]))\n",
    "b_hidden2 = tf.Variable(tf.zeros([64]))\n",
    "\n",
    "h_conv2 = tf.nn.relu(tf.nn.conv2d(h_pool1, w_hidden2, strides=[1, 1, 1, 1], padding=\"SAME\") + b_hidden2)\n",
    "h_pool2 = tf.nn.max_pool(h_conv2, ksize=[1, 2, 2, 1], strides=[1, 1, 1, 1], padding=\"SAME\")"
   ]
  },
  {
   "cell_type": "code",
   "execution_count": 9,
   "metadata": {
    "collapsed": false
   },
   "outputs": [],
   "source": [
    "# fc1 layer fully-conncected\n",
    "fc_w = tf.Variable(tf.truncated_normal([image_width*image_height*64, 10]))\n",
    "fc_b = tf.Variable(tf.zeros([10]))\n",
    "\n",
    "h_flat = tf.reshape(h_pool2, [-1, image_width*image_height*64])\n",
    "\n",
    "h_fc1 = tf.nn.relu(tf.matmul(h_flat, fc_w) + fc_b)\n",
    "\n",
    "keep_prob = tf.placeholder(tf.float32)\n",
    "drop_fc = tf.nn.dropout(h_fc1, keep_prob)\n",
    "#drop_fc = tf.nn.dropout(h_fc1, 0.7)"
   ]
  },
  {
   "cell_type": "code",
   "execution_count": 10,
   "metadata": {
    "collapsed": false
   },
   "outputs": [],
   "source": [
    "w_out = tf.Variable(tf.truncated_normal([10, 1]))\n",
    "b_out = tf.Variable(tf.zeros([1]))\n",
    "\n",
    "pred = tf.matmul(drop_fc, w_out) + b_out"
   ]
  },
  {
   "cell_type": "code",
   "execution_count": 11,
   "metadata": {
    "collapsed": false
   },
   "outputs": [
    {
     "name": "stdout",
     "output_type": "stream",
     "text": [
      "Tensor(\"add_3:0\", shape=(32, 1), dtype=float32)\n",
      "Tensor(\"shuffle_batch:1\", shape=(32, 1), dtype=float32)\n"
     ]
    }
   ],
   "source": [
    "print(pred)\n",
    "print(y_)"
   ]
  },
  {
   "cell_type": "code",
   "execution_count": 12,
   "metadata": {
    "collapsed": false
   },
   "outputs": [],
   "source": [
    "loss = tf.reduce_min(tf.nn.sigmoid_cross_entropy_with_logits(labels=y_, logits=pred))\n",
    "train = tf.train.AdamOptimizer(1e-4).minimize(loss)"
   ]
  },
  {
   "cell_type": "code",
   "execution_count": 13,
   "metadata": {
    "collapsed": true
   },
   "outputs": [],
   "source": [
    "# prediction한 값과 label값을 비교 : True/False 리스트\n",
    "correct_prediction = tf.equal(tf.argmax(pred,1), tf.argmax(y_,1))\n",
    "\n",
    "# True/False 리스트를 실수형으로 casting한다.\n",
    "accuracy = tf.reduce_mean(tf.cast(correct_prediction, tf.float32))"
   ]
  },
  {
   "cell_type": "code",
   "execution_count": 14,
   "metadata": {
    "collapsed": false
   },
   "outputs": [
    {
     "name": "stdout",
     "output_type": "stream",
     "text": [
      "started\n",
      "-----------------\n",
      "loss:  -9.29883e+07\n",
      "accuracy:  1.0\n",
      "-----------------\n",
      "loss:  -6.03188e+07\n",
      "accuracy:  1.0\n",
      "-----------------\n",
      "loss:  -1.73295e+08\n",
      "accuracy:  1.0\n",
      "-----------------\n",
      "loss:  -1.22344e+08\n",
      "accuracy:  1.0\n",
      "-----------------\n",
      "loss:  -1.72406e+07\n",
      "accuracy:  1.0\n",
      "-----------------\n",
      "loss:  -8.70677e+07\n",
      "accuracy:  1.0\n",
      "-----------------\n",
      "loss:  -1.12025e+08\n",
      "accuracy:  1.0\n",
      "-----------------\n",
      "loss:  -7.08827e+07\n",
      "accuracy:  1.0\n",
      "-----------------\n",
      "loss:  -4.16517e+08\n",
      "accuracy:  1.0\n",
      "-----------------\n",
      "loss:  -2.34204e+08\n",
      "accuracy:  1.0\n",
      "-----------------\n",
      "loss:  -1.21609e+08\n",
      "accuracy:  1.0\n",
      "-----------------\n",
      "loss:  -1.85732e+08\n",
      "accuracy:  1.0\n",
      "-----------------\n",
      "loss:  -2.95414e+08\n",
      "accuracy:  1.0\n",
      "-----------------\n",
      "loss:  -2.25075e+08\n",
      "accuracy:  1.0\n",
      "-----------------\n",
      "loss:  -1.66845e+08\n",
      "accuracy:  1.0\n",
      "-----------------\n",
      "loss:  -3.39159e+08\n",
      "accuracy:  1.0\n",
      "-----------------\n",
      "loss:  -1.71385e+08\n",
      "accuracy:  1.0\n",
      "-----------------\n",
      "loss:  -4.77425e+08\n",
      "accuracy:  1.0\n",
      "-----------------\n",
      "loss:  -1.91557e+08\n",
      "accuracy:  1.0\n",
      "-----------------\n",
      "loss:  -2.11067e+08\n",
      "accuracy:  1.0\n",
      "-----------------\n",
      "loss:  -1.82833e+08\n",
      "accuracy:  1.0\n",
      "-----------------\n",
      "loss:  -1.61279e+08\n",
      "accuracy:  1.0\n",
      "-----------------\n",
      "loss:  -1.90157e+08\n",
      "accuracy:  1.0\n",
      "-----------------\n",
      "loss:  -4.02192e+08\n",
      "accuracy:  1.0\n",
      "-----------------\n",
      "loss:  -4.51769e+08\n",
      "accuracy:  1.0\n",
      "-----------------\n",
      "loss:  -5.73683e+08\n",
      "accuracy:  1.0\n",
      "-----------------\n",
      "loss:  -2.14172e+08\n",
      "accuracy:  1.0\n",
      "-----------------\n",
      "loss:  -2.13114e+08\n",
      "accuracy:  1.0\n",
      "-----------------\n",
      "loss:  -2.71986e+08\n",
      "accuracy:  1.0\n",
      "-----------------\n",
      "loss:  -7.71157e+08\n",
      "accuracy:  1.0\n",
      "-----------------\n",
      "loss:  -3.97086e+08\n",
      "accuracy:  1.0\n",
      "-----------------\n",
      "loss:  -1.86021e+08\n",
      "accuracy:  1.0\n",
      "-----------------\n",
      "loss:  -1.14657e+09\n",
      "accuracy:  1.0\n",
      "-----------------\n",
      "loss:  -8.80771e+08\n",
      "accuracy:  1.0\n",
      "-----------------\n",
      "loss:  -6.45966e+08\n",
      "accuracy:  1.0\n",
      "-----------------\n",
      "loss:  -3.63791e+08\n",
      "accuracy:  1.0\n",
      "-----------------\n",
      "loss:  -7.73852e+08\n",
      "accuracy:  1.0\n",
      "-----------------\n",
      "loss:  -7.19542e+08\n",
      "accuracy:  1.0\n",
      "-----------------\n",
      "loss:  -4.13009e+08\n",
      "accuracy:  1.0\n",
      "-----------------\n",
      "loss:  -7.42609e+08\n",
      "accuracy:  1.0\n",
      "-----------------\n",
      "loss:  -4.405e+08\n",
      "accuracy:  1.0\n",
      "-----------------\n",
      "loss:  -2.63553e+08\n",
      "accuracy:  1.0\n",
      "-----------------\n",
      "loss:  -4.80128e+08\n",
      "accuracy:  1.0\n",
      "-----------------\n",
      "loss:  -9.0764e+08\n",
      "accuracy:  1.0\n",
      "-----------------\n",
      "loss:  -4.0119e+08\n",
      "accuracy:  1.0\n",
      "-----------------\n",
      "loss:  -7.21918e+08\n",
      "accuracy:  1.0\n",
      "-----------------\n",
      "loss:  -4.86182e+08\n",
      "accuracy:  1.0\n",
      "-----------------\n",
      "loss:  -4.73446e+08\n",
      "accuracy:  1.0\n",
      "-----------------\n",
      "loss:  -6.79175e+08\n",
      "accuracy:  1.0\n",
      "-----------------\n",
      "loss:  -5.42322e+08\n",
      "accuracy:  1.0\n",
      "-----------------\n",
      "loss:  -7.33339e+08\n",
      "accuracy:  1.0\n",
      "-----------------\n",
      "loss:  -8.9023e+08\n",
      "accuracy:  1.0\n",
      "-----------------\n",
      "loss:  -1.02134e+09\n",
      "accuracy:  1.0\n",
      "-----------------\n",
      "loss:  -5.8948e+08\n",
      "accuracy:  1.0\n",
      "-----------------\n",
      "loss:  -9.45892e+08\n",
      "accuracy:  1.0\n",
      "-----------------\n",
      "loss:  -1.16868e+09\n",
      "accuracy:  1.0\n",
      "-----------------\n",
      "loss:  -1.26054e+09\n",
      "accuracy:  1.0\n",
      "-----------------\n",
      "loss:  -1.76001e+09\n",
      "accuracy:  1.0\n",
      "-----------------\n",
      "loss:  -1.04875e+09\n",
      "accuracy:  1.0\n",
      "-----------------\n",
      "loss:  -9.00945e+08\n",
      "accuracy:  1.0\n",
      "-----------------\n",
      "loss:  -9.43783e+08\n",
      "accuracy:  1.0\n",
      "-----------------\n",
      "loss:  -7.67121e+08\n",
      "accuracy:  1.0\n",
      "-----------------\n",
      "loss:  -9.31686e+08\n",
      "accuracy:  1.0\n",
      "-----------------\n",
      "loss:  -1.21972e+09\n",
      "accuracy:  1.0\n",
      "-----------------\n",
      "loss:  -1.14661e+09\n",
      "accuracy:  1.0\n",
      "-----------------\n",
      "loss:  -9.90676e+08\n",
      "accuracy:  1.0\n",
      "-----------------\n",
      "loss:  -1.00225e+09\n",
      "accuracy:  1.0\n",
      "-----------------\n",
      "loss:  -9.65892e+08\n",
      "accuracy:  1.0\n",
      "-----------------\n",
      "loss:  -7.23471e+08\n",
      "accuracy:  1.0\n",
      "-----------------\n",
      "loss:  -1.26114e+09\n",
      "accuracy:  1.0\n",
      "-----------------\n",
      "loss:  -1.52673e+09\n",
      "accuracy:  1.0\n",
      "-----------------\n",
      "loss:  -2.21978e+09\n",
      "accuracy:  1.0\n",
      "-----------------\n",
      "loss:  -1.20318e+09\n",
      "accuracy:  1.0\n",
      "-----------------\n",
      "loss:  -1.09526e+09\n",
      "accuracy:  1.0\n",
      "-----------------\n",
      "loss:  -1.49483e+09\n",
      "accuracy:  1.0\n",
      "-----------------\n",
      "loss:  -1.14031e+09\n",
      "accuracy:  1.0\n",
      "-----------------\n",
      "loss:  -1.55322e+09\n",
      "accuracy:  1.0\n",
      "-----------------\n",
      "loss:  -1.59128e+09\n",
      "accuracy:  1.0\n",
      "-----------------\n",
      "loss:  -2.47345e+09\n",
      "accuracy:  1.0\n",
      "-----------------\n",
      "loss:  -1.63764e+09\n",
      "accuracy:  1.0\n",
      "-----------------\n",
      "loss:  -1.29547e+09\n",
      "accuracy:  1.0\n",
      "-----------------\n",
      "loss:  -2.65827e+09\n",
      "accuracy:  1.0\n",
      "-----------------\n",
      "loss:  -1.1838e+09\n",
      "accuracy:  1.0\n",
      "-----------------\n",
      "loss:  -2.51116e+09\n",
      "accuracy:  1.0\n",
      "-----------------\n",
      "loss:  -2.34464e+09\n",
      "accuracy:  1.0\n",
      "-----------------\n",
      "loss:  -2.15194e+09\n",
      "accuracy:  1.0\n",
      "-----------------\n",
      "loss:  -1.83468e+09\n",
      "accuracy:  1.0\n",
      "-----------------\n",
      "loss:  -1.69951e+09\n",
      "accuracy:  1.0\n",
      "-----------------\n",
      "loss:  -1.72884e+09\n",
      "accuracy:  1.0\n",
      "-----------------\n",
      "loss:  -1.79154e+09\n",
      "accuracy:  1.0\n",
      "-----------------\n",
      "loss:  -1.70971e+09\n",
      "accuracy:  1.0\n",
      "-----------------\n",
      "loss:  -1.80583e+09\n",
      "accuracy:  1.0\n",
      "-----------------\n",
      "loss:  -2.20026e+09\n",
      "accuracy:  1.0\n",
      "-----------------\n",
      "loss:  -1.3389e+09\n",
      "accuracy:  1.0\n",
      "-----------------\n",
      "loss:  -1.91172e+09\n",
      "accuracy:  1.0\n",
      "-----------------\n",
      "loss:  -2.89891e+09\n",
      "accuracy:  1.0\n",
      "-----------------\n",
      "loss:  -4.0834e+09\n",
      "accuracy:  1.0\n",
      "-----------------\n",
      "loss:  -2.15384e+09\n",
      "accuracy:  1.0\n",
      "-----------------\n",
      "loss:  -2.28781e+09\n",
      "accuracy:  1.0\n",
      "-----------------\n",
      "loss:  -1.55935e+09\n",
      "accuracy:  1.0\n",
      "training done\n"
     ]
    }
   ],
   "source": [
    "with tf.Session() as sess:\n",
    "    print(\"started\")\n",
    "    coord = tf.train.Coordinator()\n",
    "    thread = tf.train.start_queue_runners(sess=sess, coord=coord)\n",
    "    \n",
    "    sess.run(tf.global_variables_initializer())\n",
    "\n",
    "    for i in range(100):\n",
    "#        print(sess.run(image_key))\n",
    "#        print(sess.run(image_key))\n",
    "        sess.run(train, {keep_prob: 0.7})\n",
    "#        sess.run(train)\n",
    "        \n",
    "        #if train==True:\n",
    "        _looss = sess.run(loss, {keep_prob: 0.7})\n",
    "        _accuracy = sess.run(accuracy, {keep_prob: 0.7})\n",
    "        #if release_mode==Train:\n",
    "        #result = sess.run(pred, {keep_prob: 1.0})\n",
    "        \n",
    "        print(\"-----------------\")\n",
    "        print(\"loss: \", _looss)\n",
    "        print(\"accuracy: \", _accuracy)\n",
    "        \n",
    "#    print(image)\n",
    "\n",
    "#    Image.fromarray(image).show()\n",
    "\n",
    "    print(\"training done\")\n",
    "    \n",
    "    coord.request_stop()\n",
    "    coord.join(thread)"
   ]
  },
  {
   "cell_type": "code",
   "execution_count": null,
   "metadata": {
    "collapsed": true
   },
   "outputs": [],
   "source": []
  },
  {
   "cell_type": "code",
   "execution_count": null,
   "metadata": {
    "collapsed": true
   },
   "outputs": [],
   "source": []
  }
 ],
 "metadata": {
  "anaconda-cloud": {},
  "kernelspec": {
   "display_name": "Python [default]",
   "language": "python",
   "name": "python3"
  },
  "language_info": {
   "codemirror_mode": {
    "name": "ipython",
    "version": 3
   },
   "file_extension": ".py",
   "mimetype": "text/x-python",
   "name": "python",
   "nbconvert_exporter": "python",
   "pygments_lexer": "ipython3",
   "version": "3.5.2"
  }
 },
 "nbformat": 4,
 "nbformat_minor": 1
}
