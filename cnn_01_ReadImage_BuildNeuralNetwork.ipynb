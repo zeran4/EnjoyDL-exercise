{
 "cells": [
  {
   "cell_type": "markdown",
   "metadata": {},
   "source": [
    "목표1 : 이미지를 하나 읽어 들이고 conv layer 2번 + fc layer 1번 처리"
   ]
  },
  {
   "cell_type": "code",
   "execution_count": 1,
   "metadata": {
    "collapsed": false
   },
   "outputs": [],
   "source": [
    "import tensorflow as tf\n",
    "import os\n",
    "from PIL import Image"
   ]
  },
  {
   "cell_type": "code",
   "execution_count": 2,
   "metadata": {
    "collapsed": false
   },
   "outputs": [],
   "source": [
    "image_dir = os.getcwd() + \"/Tensorflow_on_Air_data/Face00007.jpg\"\n",
    "filename_list = [image_dir]\n",
    "\n",
    "filename_queue = tf.train.string_input_producer(filename_list)"
   ]
  },
  {
   "cell_type": "code",
   "execution_count": 3,
   "metadata": {
    "collapsed": false
   },
   "outputs": [],
   "source": [
    "reader = tf.WholeFileReader()\n",
    "key, value = reader.read(filename_queue)"
   ]
  },
  {
   "cell_type": "code",
   "execution_count": 4,
   "metadata": {
    "collapsed": false
   },
   "outputs": [],
   "source": [
    "image = tf.image.decode_jpeg(value)\n",
    "#print(image)\n",
    "\n",
    "# image를 decode하면 tensor로 저장되어 feed없이 사용하기 위해 그대로 type만 변환\n",
    "x = tf.cast(image, tf.float32)"
   ]
  },
  {
   "cell_type": "code",
   "execution_count": 5,
   "metadata": {
    "collapsed": false
   },
   "outputs": [],
   "source": [
    "image_width = 49\n",
    "image_height = 61"
   ]
  },
  {
   "cell_type": "code",
   "execution_count": 6,
   "metadata": {
    "collapsed": false
   },
   "outputs": [],
   "source": [
    "# 데이터가 1개이므로 feed를 생략 x = tf.placeholder(tf.float32, shape=[None, image_width, image_height])\n",
    "y_ = tf.placeholder(tf.float32, shape=[None, 1]) # label에 해당되는 값이라 lab01에서는 사용하지 ㅇ낳는다"
   ]
  },
  {
   "cell_type": "code",
   "execution_count": 7,
   "metadata": {
    "collapsed": false
   },
   "outputs": [],
   "source": [
    "# hidden1 layer convolution\n",
    "w_hidden1 = tf.Variable(tf.truncated_normal([5,5,1,32]))\n",
    "b_hidden1 = tf.Variable(tf.zeros([32]))\n",
    "\n",
    "x_image = tf.reshape(x, [-1, image_width, image_height, 1])\n",
    "\n",
    "conv1 = tf.nn.conv2d(x_image, w_hidden1, strides=[1, 1, 1, 1], padding=\"SAME\")\n",
    "hidden1 = tf.nn.relu(conv1 + b_hidden1)"
   ]
  },
  {
   "cell_type": "code",
   "execution_count": 8,
   "metadata": {
    "collapsed": true
   },
   "outputs": [],
   "source": [
    "# hidden2 layer convolution\n",
    "w_hidden2 = tf.Variable(tf.truncated_normal([5,5,32,64]))\n",
    "b_hidden2 = tf.Variable(tf.zeros([64]))\n",
    "\n",
    "conv2 = tf.nn.conv2d(hidden1, w_hidden2, strides=[1, 1, 1, 1], padding=\"SAME\")\n",
    "hidden2 = tf.nn.relu(conv2 + b_hidden2)"
   ]
  },
  {
   "cell_type": "code",
   "execution_count": 9,
   "metadata": {
    "collapsed": false
   },
   "outputs": [],
   "source": [
    "# fc1 layer fully-conncected\n",
    "fc_w = tf.Variable(tf.truncated_normal([image_width*image_height*64, 1]))\n",
    "fc_b = tf.Variable(tf.zeros([1]))\n",
    "\n",
    "h_flat = tf.reshape(hidden2, [-1, image_width*image_height*64])\n",
    "\n",
    "fc = tf.nn.relu(tf.matmul(h_flat, fc_w) + fc_b)"
   ]
  },
  {
   "cell_type": "code",
   "execution_count": 11,
   "metadata": {
    "collapsed": false
   },
   "outputs": [
    {
     "name": "stdout",
     "output_type": "stream",
     "text": [
      "training done\n"
     ]
    }
   ],
   "source": [
    "with tf.Session() as sess:\n",
    "    coord = tf.train.Coordinator()\n",
    "    thread = tf.train.start_queue_runners(sess=sess, coord=coord)\n",
    "    \n",
    "    sess.run(tf.global_variables_initializer())\n",
    "\n",
    "    image = sess.run(fc)\n",
    "#    print(image)\n",
    "\n",
    "#    Image.fromarray(image).show()\n",
    "\n",
    "    print(\"training done\")\n",
    "    \n",
    "    coord.request_stop()\n",
    "    coord.join(thread)"
   ]
  },
  {
   "cell_type": "code",
   "execution_count": null,
   "metadata": {
    "collapsed": true
   },
   "outputs": [],
   "source": []
  }
 ],
 "metadata": {
  "anaconda-cloud": {},
  "kernelspec": {
   "display_name": "Python [default]",
   "language": "python",
   "name": "python3"
  },
  "language_info": {
   "codemirror_mode": {
    "name": "ipython",
    "version": 3
   },
   "file_extension": ".py",
   "mimetype": "text/x-python",
   "name": "python",
   "nbconvert_exporter": "python",
   "pygments_lexer": "ipython3",
   "version": "3.5.2"
  }
 },
 "nbformat": 4,
 "nbformat_minor": 1
}
